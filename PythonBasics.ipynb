{
 "cells": [
  {
   "cell_type": "markdown",
   "id": "c9116fbe-2315-43b6-afbb-473fcfd1d258",
   "metadata": {},
   "source": [
    "# Python Baiscs"
   ]
  },
  {
   "cell_type": "markdown",
   "id": "9b6f6d54-525b-4895-8b9d-e65c029a7114",
   "metadata": {},
   "source": [
    "## 0. Variables"
   ]
  },
  {
   "cell_type": "code",
   "execution_count": 155,
   "id": "c7e09aff-3031-4db7-9ded-6d9616819b7c",
   "metadata": {},
   "outputs": [],
   "source": [
    "a = 2"
   ]
  },
  {
   "cell_type": "code",
   "execution_count": 3,
   "id": "6b73fb48-e1de-4b4e-99e1-ea7de47fcc17",
   "metadata": {},
   "outputs": [
    {
     "data": {
      "text/plain": [
       "2"
      ]
     },
     "execution_count": 3,
     "metadata": {},
     "output_type": "execute_result"
    }
   ],
   "source": [
    "a"
   ]
  },
  {
   "cell_type": "code",
   "execution_count": 12,
   "id": "2b07f8df-2877-46f6-b87f-0acdbb8d5c6a",
   "metadata": {},
   "outputs": [],
   "source": [
    "# Storing a new variable\n",
    "new_variable = 'python_basic'"
   ]
  },
  {
   "cell_type": "code",
   "execution_count": 13,
   "id": "6cf0afd6-4194-4bf6-a5e8-93b4472d89ba",
   "metadata": {},
   "outputs": [
    {
     "data": {
      "text/plain": [
       "str"
      ]
     },
     "execution_count": 13,
     "metadata": {},
     "output_type": "execute_result"
    }
   ],
   "source": [
    "type(new_variable)"
   ]
  },
  {
   "cell_type": "code",
   "execution_count": 30,
   "id": "b772204c-b102-4abc-a3f9-3160d13db12d",
   "metadata": {},
   "outputs": [
    {
     "data": {
      "text/plain": [
       "7"
      ]
     },
     "execution_count": 30,
     "metadata": {},
     "output_type": "execute_result"
    }
   ],
   "source": [
    "new_variable.find('b')"
   ]
  },
  {
   "cell_type": "markdown",
   "id": "dd6e0d10-bfe2-470b-85d6-06b60e5f2864",
   "metadata": {},
   "source": [
    "## 1. Data Types"
   ]
  },
  {
   "cell_type": "code",
   "execution_count": 14,
   "id": "c31ca63d-c4f9-40a0-a688-f1d30c12477f",
   "metadata": {},
   "outputs": [],
   "source": [
    "variable1 = 1234"
   ]
  },
  {
   "cell_type": "code",
   "execution_count": 16,
   "id": "4defc2ac-588b-49d8-b52e-8036f9ca90da",
   "metadata": {},
   "outputs": [
    {
     "data": {
      "text/plain": [
       "int"
      ]
     },
     "execution_count": 16,
     "metadata": {},
     "output_type": "execute_result"
    }
   ],
   "source": [
    "type(variable1)"
   ]
  },
  {
   "cell_type": "code",
   "execution_count": 17,
   "id": "bc8d2f9b-fb20-471f-b64b-ec99a79d5e11",
   "metadata": {},
   "outputs": [
    {
     "name": "stdout",
     "output_type": "stream",
     "text": [
      "1235\n"
     ]
    }
   ],
   "source": [
    "print(variable1+1)"
   ]
  },
  {
   "cell_type": "code",
   "execution_count": 18,
   "id": "3659bac5-6ad4-4a42-a073-d50d9e0c84f7",
   "metadata": {},
   "outputs": [],
   "source": [
    "floatVariable = 12.3"
   ]
  },
  {
   "cell_type": "code",
   "execution_count": 19,
   "id": "d90f5b2f-9bda-421f-9c7b-0e452aa8d2f8",
   "metadata": {},
   "outputs": [
    {
     "data": {
      "text/plain": [
       "float"
      ]
     },
     "execution_count": 19,
     "metadata": {},
     "output_type": "execute_result"
    }
   ],
   "source": [
    "type(floatVariable)"
   ]
  },
  {
   "cell_type": "code",
   "execution_count": 20,
   "id": "ee8c984f-a5da-4c4c-9cab-768f46909b95",
   "metadata": {},
   "outputs": [],
   "source": [
    "booleanVariable = True"
   ]
  },
  {
   "cell_type": "code",
   "execution_count": 21,
   "id": "37cc265b-4214-41d7-9b9e-fc18f73133d6",
   "metadata": {},
   "outputs": [
    {
     "data": {
      "text/plain": [
       "bool"
      ]
     },
     "execution_count": 21,
     "metadata": {},
     "output_type": "execute_result"
    }
   ],
   "source": [
    "type(booleanVariable)"
   ]
  },
  {
   "cell_type": "code",
   "execution_count": 24,
   "id": "4e48796c-e414-49ea-ba28-3e9f346b6e59",
   "metadata": {},
   "outputs": [],
   "source": [
    "listVariable = ['string',1,1.2, True]"
   ]
  },
  {
   "cell_type": "code",
   "execution_count": 25,
   "id": "e73f4bf8-419e-4d0d-a275-9451e0a637ce",
   "metadata": {},
   "outputs": [
    {
     "data": {
      "text/plain": [
       "list"
      ]
     },
     "execution_count": 25,
     "metadata": {},
     "output_type": "execute_result"
    }
   ],
   "source": [
    "type(listVariable)"
   ]
  },
  {
   "cell_type": "code",
   "execution_count": 27,
   "id": "9bc21c03-11f8-4b35-b603-0e48f11ea44e",
   "metadata": {},
   "outputs": [
    {
     "name": "stdout",
     "output_type": "stream",
     "text": [
      "1.2\n"
     ]
    }
   ],
   "source": [
    "print(listVariable[2])"
   ]
  },
  {
   "cell_type": "code",
   "execution_count": 32,
   "id": "74aa8ba4-59d3-4846-91cd-2c20392f16e6",
   "metadata": {},
   "outputs": [],
   "source": [
    "tupleVariable = ('string',1,1.2, True)"
   ]
  },
  {
   "cell_type": "code",
   "execution_count": 33,
   "id": "19babb06-ec37-47c7-8333-a250a7b131a3",
   "metadata": {},
   "outputs": [
    {
     "data": {
      "text/plain": [
       "tuple"
      ]
     },
     "execution_count": 33,
     "metadata": {},
     "output_type": "execute_result"
    }
   ],
   "source": [
    "type(tupleVariable)"
   ]
  },
  {
   "cell_type": "code",
   "execution_count": 34,
   "id": "467d81f4-c49d-4eb1-a1da-827ae24575b5",
   "metadata": {},
   "outputs": [],
   "source": [
    "listVariable[3] = False"
   ]
  },
  {
   "cell_type": "code",
   "execution_count": 35,
   "id": "3d5c9bf6-3fe9-4422-8aac-a156ad61d050",
   "metadata": {},
   "outputs": [
    {
     "data": {
      "text/plain": [
       "['string', 1, 1.2, False]"
      ]
     },
     "execution_count": 35,
     "metadata": {},
     "output_type": "execute_result"
    }
   ],
   "source": [
    "listVariable"
   ]
  },
  {
   "cell_type": "code",
   "execution_count": 36,
   "id": "10ca1143-bd9e-4f92-8200-6a50cad90771",
   "metadata": {},
   "outputs": [
    {
     "ename": "TypeError",
     "evalue": "'tuple' object does not support item assignment",
     "output_type": "error",
     "traceback": [
      "\u001b[1;31m---------------------------------------------------------------------------\u001b[0m",
      "\u001b[1;31mTypeError\u001b[0m                                 Traceback (most recent call last)",
      "Cell \u001b[1;32mIn[36], line 1\u001b[0m\n\u001b[1;32m----> 1\u001b[0m tupleVariable[\u001b[38;5;241m3\u001b[39m] \u001b[38;5;241m=\u001b[39m \u001b[38;5;241m10\u001b[39m\n",
      "\u001b[1;31mTypeError\u001b[0m: 'tuple' object does not support item assignment"
     ]
    }
   ],
   "source": [
    "tupleVariable[3] = 10"
   ]
  },
  {
   "cell_type": "code",
   "execution_count": 37,
   "id": "df2fd9b6-4fd2-46c5-b43f-e6ce4115ac06",
   "metadata": {},
   "outputs": [],
   "source": [
    "setVariable = {'string',1,1.2, True}"
   ]
  },
  {
   "cell_type": "code",
   "execution_count": 38,
   "id": "7e3c1d78-11f8-4588-99a7-a2d02b9b0486",
   "metadata": {},
   "outputs": [
    {
     "data": {
      "text/plain": [
       "set"
      ]
     },
     "execution_count": 38,
     "metadata": {},
     "output_type": "execute_result"
    }
   ],
   "source": [
    "type(setVariable)"
   ]
  },
  {
   "cell_type": "code",
   "execution_count": 39,
   "id": "89dc2e92-d31f-4ab7-920d-7b17ff5dedae",
   "metadata": {},
   "outputs": [
    {
     "ename": "TypeError",
     "evalue": "'set' object does not support item assignment",
     "output_type": "error",
     "traceback": [
      "\u001b[1;31m---------------------------------------------------------------------------\u001b[0m",
      "\u001b[1;31mTypeError\u001b[0m                                 Traceback (most recent call last)",
      "Cell \u001b[1;32mIn[39], line 1\u001b[0m\n\u001b[1;32m----> 1\u001b[0m setVariable[\u001b[38;5;241m2\u001b[39m] \u001b[38;5;241m=\u001b[39m \u001b[38;5;241m3.9\u001b[39m\n",
      "\u001b[1;31mTypeError\u001b[0m: 'set' object does not support item assignment"
     ]
    }
   ],
   "source": [
    "setVariable[2] = 3.9"
   ]
  },
  {
   "cell_type": "code",
   "execution_count": 42,
   "id": "abdfa856-2425-49ea-8d93-bd0162114aa2",
   "metadata": {},
   "outputs": [],
   "source": [
    "listVar = [1,2,3,4,5,6,7,1,1,2,3,3,4]\n",
    "tupleVar = (1,2,3,4,5,6,7,1,1,2,3,3,4)\n",
    "setVar = {1,2,3,4,5,6,7,1,1,2,3,3,4}"
   ]
  },
  {
   "cell_type": "code",
   "execution_count": 41,
   "id": "2152edea-39a7-4e3d-98ad-afa94b2f8a1b",
   "metadata": {},
   "outputs": [
    {
     "name": "stdout",
     "output_type": "stream",
     "text": [
      "{1, 2, 3, 4, 5, 6, 7}\n"
     ]
    }
   ],
   "source": [
    "print(setVar)"
   ]
  },
  {
   "cell_type": "code",
   "execution_count": 49,
   "id": "c2fece59-cea1-4e4b-bc8f-2fe676c95392",
   "metadata": {},
   "outputs": [
    {
     "data": {
      "text/plain": [
       "list"
      ]
     },
     "execution_count": 49,
     "metadata": {},
     "output_type": "execute_result"
    }
   ],
   "source": [
    "#type casting\n",
    "list(set(listVar))\n",
    "type (list(set(listVar)))\n"
   ]
  },
  {
   "cell_type": "code",
   "execution_count": 54,
   "id": "db0145f9-c6f0-4386-83da-f672a5581911",
   "metadata": {},
   "outputs": [],
   "source": [
    "#dictionary\n",
    "studentID = {\"name\":\"sam\", \"dept\": \"CSE\", \"ID\": 123}"
   ]
  },
  {
   "cell_type": "code",
   "execution_count": 51,
   "id": "8ddcaea1-f631-4d5a-ac8e-2c0c4d6c4946",
   "metadata": {},
   "outputs": [
    {
     "data": {
      "text/plain": [
       "dict"
      ]
     },
     "execution_count": 51,
     "metadata": {},
     "output_type": "execute_result"
    }
   ],
   "source": [
    "type(studentID)"
   ]
  },
  {
   "cell_type": "code",
   "execution_count": 52,
   "id": "7e32964e-91e8-408a-8078-b55e414fb18e",
   "metadata": {},
   "outputs": [
    {
     "data": {
      "text/plain": [
       "'sam'"
      ]
     },
     "execution_count": 52,
     "metadata": {},
     "output_type": "execute_result"
    }
   ],
   "source": [
    "studentID['name']"
   ]
  },
  {
   "cell_type": "code",
   "execution_count": 55,
   "id": "67cea912-725f-4c83-b603-0017a9a5262e",
   "metadata": {},
   "outputs": [
    {
     "data": {
      "text/plain": [
       "123"
      ]
     },
     "execution_count": 55,
     "metadata": {},
     "output_type": "execute_result"
    }
   ],
   "source": [
    "studentID['ID']"
   ]
  },
  {
   "cell_type": "markdown",
   "id": "407a03d0-5219-48d2-8bcd-a03b456171d1",
   "metadata": {},
   "source": [
    "## 2. Lists"
   ]
  },
  {
   "cell_type": "code",
   "execution_count": 57,
   "id": "0a27dc85-bf77-40c8-a82f-267ced389343",
   "metadata": {},
   "outputs": [],
   "source": [
    "# Create (CRUD)\n",
    "studentList = ['Andrew','Bezos','Jimmy','Karon','Elliot']"
   ]
  },
  {
   "cell_type": "code",
   "execution_count": 58,
   "id": "1b69c6af-530e-43dd-bb3e-6b64f056580b",
   "metadata": {},
   "outputs": [
    {
     "data": {
      "text/plain": [
       "['Andrew', 'Bezos', 'Jimmy', 'Karon', 'Elliot']"
      ]
     },
     "execution_count": 58,
     "metadata": {},
     "output_type": "execute_result"
    }
   ],
   "source": [
    "# Read (CRUD)\n",
    "studentList"
   ]
  },
  {
   "cell_type": "code",
   "execution_count": 59,
   "id": "568dc3d7-aabb-4bfc-9d33-fa3ff62f3f5c",
   "metadata": {},
   "outputs": [
    {
     "data": {
      "text/plain": [
       "'Jimmy'"
      ]
     },
     "execution_count": 59,
     "metadata": {},
     "output_type": "execute_result"
    }
   ],
   "source": [
    "studentList[2]"
   ]
  },
  {
   "cell_type": "code",
   "execution_count": 60,
   "id": "f595e57d-177e-4424-a18b-a07724d8b07f",
   "metadata": {},
   "outputs": [
    {
     "data": {
      "text/plain": [
       "'Elliot'"
      ]
     },
     "execution_count": 60,
     "metadata": {},
     "output_type": "execute_result"
    }
   ],
   "source": [
    "studentList[-1]"
   ]
  },
  {
   "cell_type": "code",
   "execution_count": 64,
   "id": "9bec9ebb-f281-457d-b2a6-0771f10626ba",
   "metadata": {},
   "outputs": [
    {
     "data": {
      "text/plain": [
       "5"
      ]
     },
     "execution_count": 64,
     "metadata": {},
     "output_type": "execute_result"
    }
   ],
   "source": [
    "len(studentList)"
   ]
  },
  {
   "cell_type": "code",
   "execution_count": 65,
   "id": "5b85347d-5664-4593-b77d-ea15a4c58d1d",
   "metadata": {},
   "outputs": [
    {
     "data": {
      "text/plain": [
       "['Andrew', 'Bezos', 'Jimmy', 'Micky', 'Elliot']"
      ]
     },
     "execution_count": 65,
     "metadata": {},
     "output_type": "execute_result"
    }
   ],
   "source": [
    "# Update (CRUD)\n",
    "studentList[3] = 'Micky'\n",
    "studentList"
   ]
  },
  {
   "cell_type": "code",
   "execution_count": 66,
   "id": "80ca311a-35cd-41e0-9508-f638170b583d",
   "metadata": {},
   "outputs": [
    {
     "data": {
      "text/plain": [
       "['Andrew', 'Bezos', 'Jimmy', 'Micky', 'Elliot', 'Ama']"
      ]
     },
     "execution_count": 66,
     "metadata": {},
     "output_type": "execute_result"
    }
   ],
   "source": [
    "studentList.append('Ama')\n",
    "studentList"
   ]
  },
  {
   "cell_type": "code",
   "execution_count": 67,
   "id": "eb91bc2e-faf1-4089-9207-d8ded1b1182c",
   "metadata": {},
   "outputs": [
    {
     "data": {
      "text/plain": [
       "['Andrew', 'Mini', 'Bezos', 'Jimmy', 'Micky', 'Elliot', 'Ama']"
      ]
     },
     "execution_count": 67,
     "metadata": {},
     "output_type": "execute_result"
    }
   ],
   "source": [
    "studentList.insert(1,'Mini')\n",
    "studentList"
   ]
  },
  {
   "cell_type": "code",
   "execution_count": 69,
   "id": "4ffbe9b9-04c8-43fb-b0fd-d61d9af1522e",
   "metadata": {},
   "outputs": [
    {
     "data": {
      "text/plain": [
       "['Mini', 'Bezos', 'Jimmy', 'Micky', 'Elliot', 'Ama']"
      ]
     },
     "execution_count": 69,
     "metadata": {},
     "output_type": "execute_result"
    }
   ],
   "source": [
    "# Delete (CRUD)\n",
    "del studentList[0]\n",
    "studentList"
   ]
  },
  {
   "cell_type": "markdown",
   "id": "e4b14588-aaef-4865-a9b0-f0fe7872665c",
   "metadata": {},
   "source": [
    "## 3. Dictionaries"
   ]
  },
  {
   "cell_type": "code",
   "execution_count": 91,
   "id": "19f5cd7a-ffb0-45a5-bd9a-b98c5011a4db",
   "metadata": {},
   "outputs": [],
   "source": [
    "# CREATE (CRUD)\n",
    "students = {\n",
    "    'name':'sam',\n",
    "    'id': 123,\n",
    "    'dept': 'cse'\n",
    "}"
   ]
  },
  {
   "cell_type": "code",
   "execution_count": 92,
   "id": "cb0f0f14-54ca-4c8a-903e-17bdbe239267",
   "metadata": {},
   "outputs": [
    {
     "data": {
      "text/plain": [
       "{'name': 'sam', 'id': 123, 'dept': 'cse'}"
      ]
     },
     "execution_count": 92,
     "metadata": {},
     "output_type": "execute_result"
    }
   ],
   "source": [
    "# READ (CRUD)\n",
    "students"
   ]
  },
  {
   "cell_type": "code",
   "execution_count": 94,
   "id": "ab5fd299-0552-4c81-8913-abb02119aa85",
   "metadata": {},
   "outputs": [
    {
     "data": {
      "text/plain": [
       "dict_keys(['name', 'id', 'dept'])"
      ]
     },
     "execution_count": 94,
     "metadata": {},
     "output_type": "execute_result"
    }
   ],
   "source": [
    "students.keys()"
   ]
  },
  {
   "cell_type": "code",
   "execution_count": 95,
   "id": "db16ecbf-9a77-4740-bca6-6938af288607",
   "metadata": {},
   "outputs": [
    {
     "data": {
      "text/plain": [
       "dict_values(['sam', 123, 'cse'])"
      ]
     },
     "execution_count": 95,
     "metadata": {},
     "output_type": "execute_result"
    }
   ],
   "source": [
    "students.values()"
   ]
  },
  {
   "cell_type": "code",
   "execution_count": 96,
   "id": "2d1327e4-6b5b-4ebb-bdc1-a4e57c691b45",
   "metadata": {},
   "outputs": [
    {
     "data": {
      "text/plain": [
       "'sam'"
      ]
     },
     "execution_count": 96,
     "metadata": {},
     "output_type": "execute_result"
    }
   ],
   "source": [
    "students['name']"
   ]
  },
  {
   "cell_type": "code",
   "execution_count": 97,
   "id": "4aa83434-5255-4ff7-aeff-92cbafe802f3",
   "metadata": {},
   "outputs": [
    {
     "data": {
      "text/plain": [
       "{'name': 'sam', 'id': 123, 'dept': 'cse', 'location': 'BD'}"
      ]
     },
     "execution_count": 97,
     "metadata": {},
     "output_type": "execute_result"
    }
   ],
   "source": [
    "# UPDATE (CRUD)\n",
    "students['location'] = 'BD'\n",
    "students"
   ]
  },
  {
   "cell_type": "code",
   "execution_count": 98,
   "id": "1aaeebea-dfc6-4d15-967f-9c1079f39225",
   "metadata": {},
   "outputs": [
    {
     "data": {
      "text/plain": [
       "{'name': 'sam', 'id': 234, 'dept': 'cse', 'location': 'BD'}"
      ]
     },
     "execution_count": 98,
     "metadata": {},
     "output_type": "execute_result"
    }
   ],
   "source": [
    "students['id'] = 234\n",
    "students"
   ]
  },
  {
   "cell_type": "code",
   "execution_count": 99,
   "id": "5810bb9a-fd41-4a7a-b5ca-abac7944c914",
   "metadata": {},
   "outputs": [
    {
     "data": {
      "text/plain": [
       "{'name': 'sam', 'id': 234, 'dept': 'cse'}"
      ]
     },
     "execution_count": 99,
     "metadata": {},
     "output_type": "execute_result"
    }
   ],
   "source": [
    "# DELETE (CRUD)\n",
    "del students['location']\n",
    "students"
   ]
  },
  {
   "cell_type": "markdown",
   "id": "b123d6fd-d8fb-41ba-889d-bc1a7d298fff",
   "metadata": {},
   "source": [
    "## 4. Conditions and Logic"
   ]
  },
  {
   "cell_type": "code",
   "execution_count": 105,
   "id": "f81b925c-0c80-4db2-a0d4-2bf625708f33",
   "metadata": {},
   "outputs": [
    {
     "name": "stdin",
     "output_type": "stream",
     "text": [
      "age:  5\n"
     ]
    },
    {
     "name": "stdout",
     "output_type": "stream",
     "text": [
      "child\n"
     ]
    }
   ],
   "source": [
    "name= int(input('age: '))\n",
    "if name >=18 :\n",
    "    print('adult')\n",
    "elif name>=10 and name<=17:\n",
    "    print('not adult')\n",
    "else:\n",
    "    print('child')"
   ]
  },
  {
   "cell_type": "code",
   "execution_count": 106,
   "id": "0e6e534a-18d1-43ec-8356-1e16d2ffe25d",
   "metadata": {},
   "outputs": [
    {
     "data": {
      "text/plain": [
       "True"
      ]
     },
     "execution_count": 106,
     "metadata": {},
     "output_type": "execute_result"
    }
   ],
   "source": [
    "shop = ['sugar','garlic','salt','onion']\n",
    "'sugar' in shop"
   ]
  },
  {
   "cell_type": "code",
   "execution_count": 108,
   "id": "7c7ecd4b-c2f6-4e85-8cbf-10ab313744e7",
   "metadata": {},
   "outputs": [
    {
     "name": "stdout",
     "output_type": "stream",
     "text": [
      "checked\n"
     ]
    }
   ],
   "source": [
    "if 'salt' in shop:\n",
    "    print('checked')"
   ]
  },
  {
   "cell_type": "code",
   "execution_count": 109,
   "id": "09010c24-2632-4a82-897c-b4c6fc03a0aa",
   "metadata": {},
   "outputs": [
    {
     "name": "stdout",
     "output_type": "stream",
     "text": [
      "sugar\n",
      "garlic\n",
      "salt\n",
      "onion\n"
     ]
    }
   ],
   "source": [
    "for item in shop:\n",
    "    print(item)"
   ]
  },
  {
   "cell_type": "code",
   "execution_count": 114,
   "id": "77efcc99-b1b5-46bd-878a-b3d887b391ce",
   "metadata": {},
   "outputs": [
    {
     "name": "stdout",
     "output_type": "stream",
     "text": [
      "sugar\n",
      "done\n",
      "garlic\n",
      "stinky\n",
      "done\n",
      "salt\n",
      "tasty\n"
     ]
    }
   ],
   "source": [
    "for item in shop:\n",
    "    print(item)\n",
    "    if item == 'garlic':\n",
    "        print('stinky')\n",
    "    elif item == 'salt':\n",
    "        print('tasty')\n",
    "        break\n",
    "    else:\n",
    "        pass\n",
    "    print('done')"
   ]
  },
  {
   "cell_type": "code",
   "execution_count": 115,
   "id": "a1ef0344-f938-4010-bf29-981b697733ec",
   "metadata": {},
   "outputs": [
    {
     "name": "stdout",
     "output_type": "stream",
     "text": [
      "0\n",
      "1\n",
      "2\n",
      "3\n",
      "4\n",
      "5\n",
      "6\n",
      "7\n",
      "8\n",
      "9\n"
     ]
    }
   ],
   "source": [
    "for num in range(10):\n",
    "    print(num)"
   ]
  },
  {
   "cell_type": "code",
   "execution_count": 118,
   "id": "990618f2-d1ce-4d63-aa73-e58a8775313a",
   "metadata": {},
   "outputs": [
    {
     "name": "stdout",
     "output_type": "stream",
     "text": [
      "2\n",
      "3\n",
      "4\n",
      "5\n",
      "6\n",
      "7\n",
      "8\n",
      "9\n"
     ]
    }
   ],
   "source": [
    "for num in range(2,10):\n",
    "    print(num)"
   ]
  },
  {
   "cell_type": "code",
   "execution_count": 119,
   "id": "05314e3f-a2f5-4152-bec8-76ab9013c566",
   "metadata": {},
   "outputs": [
    {
     "name": "stdout",
     "output_type": "stream",
     "text": [
      "sugar\n",
      "garlic\n",
      "stinky\n",
      "done\n",
      "salt\n",
      "tasty\n"
     ]
    }
   ],
   "source": [
    "for item in shop:\n",
    "    print(item)\n",
    "    if item == 'garlic':\n",
    "        print('stinky')\n",
    "    elif item == 'salt':\n",
    "        print('tasty')\n",
    "        break\n",
    "    else:\n",
    "        continue\n",
    "    print('done')"
   ]
  },
  {
   "cell_type": "code",
   "execution_count": 2,
   "id": "d4a76385-9265-4384-b1ad-94f48f58eb71",
   "metadata": {},
   "outputs": [
    {
     "name": "stdout",
     "output_type": "stream",
     "text": [
      "Pooping\n",
      "Pooping\n",
      "Pooping\n",
      "Pooping\n",
      "Pooping\n",
      "Stomach clear\n"
     ]
    }
   ],
   "source": [
    "# While Loop\n",
    "pooped = 0\n",
    "total_poop = 5\n",
    "\n",
    "while True:\n",
    "    pooped += 1\n",
    "    print('Pooping')\n",
    "\n",
    "    if pooped == total_poop:\n",
    "        print('Stomach clear')\n",
    "        break"
   ]
  },
  {
   "cell_type": "code",
   "execution_count": 8,
   "id": "3a046ecf-e62d-46e3-b32d-0a43fafa88bc",
   "metadata": {},
   "outputs": [
    {
     "name": "stdout",
     "output_type": "stream",
     "text": [
      "Pooping 1 times\n",
      "Pooping 2 times\n",
      "Pooping 3 times\n",
      "Pooping 4 times\n",
      "Pooping 5 times\n",
      "Stomach clear\n"
     ]
    }
   ],
   "source": [
    "pooped = 0\n",
    "total_poop = 5\n",
    "\n",
    "while True:\n",
    "    #String Formatting\n",
    "    print('Pooping {} times'.format(pooped+1))\n",
    "    pooped += 1\n",
    "\n",
    "    if pooped == total_poop:\n",
    "        print('Stomach clear')\n",
    "        break"
   ]
  },
  {
   "cell_type": "code",
   "execution_count": 10,
   "id": "fc73ddae-a1b9-4565-bc03-40c10a38be3b",
   "metadata": {},
   "outputs": [
    {
     "data": {
      "text/plain": [
       "{'name': 'abul', 'id': 111, 'plate': 10203, 'age': 25}"
      ]
     },
     "execution_count": 10,
     "metadata": {},
     "output_type": "execute_result"
    }
   ],
   "source": [
    "drivers = {\n",
    "    'name':'abul',\n",
    "    'id': 111,\n",
    "    'plate': 10203,\n",
    "    'age': 25\n",
    "}\n",
    "drivers"
   ]
  },
  {
   "cell_type": "code",
   "execution_count": 11,
   "id": "873436ca-8af7-4268-97be-0e4d5fc619f5",
   "metadata": {},
   "outputs": [
    {
     "data": {
      "text/plain": [
       "dict_keys(['name', 'id', 'plate', 'age'])"
      ]
     },
     "execution_count": 11,
     "metadata": {},
     "output_type": "execute_result"
    }
   ],
   "source": [
    "drivers.keys()"
   ]
  },
  {
   "cell_type": "code",
   "execution_count": 12,
   "id": "ec48d2a0-0489-4f76-8286-8757276780cf",
   "metadata": {},
   "outputs": [
    {
     "data": {
      "text/plain": [
       "dict_values(['abul', 111, 10203, 25])"
      ]
     },
     "execution_count": 12,
     "metadata": {},
     "output_type": "execute_result"
    }
   ],
   "source": [
    "drivers.values()"
   ]
  },
  {
   "cell_type": "code",
   "execution_count": 13,
   "id": "635c495a-e64f-4394-9458-a25deb0f8f7d",
   "metadata": {},
   "outputs": [
    {
     "name": "stdout",
     "output_type": "stream",
     "text": [
      "name\n",
      "id\n",
      "plate\n",
      "age\n"
     ]
    }
   ],
   "source": [
    "for keys in drivers.keys():\n",
    "    print(keys)"
   ]
  },
  {
   "cell_type": "code",
   "execution_count": 14,
   "id": "f6a4310c-c8c9-4e08-a61f-bcafa3c631b5",
   "metadata": {},
   "outputs": [
    {
     "name": "stdout",
     "output_type": "stream",
     "text": [
      "abul\n",
      "111\n",
      "10203\n",
      "25\n"
     ]
    }
   ],
   "source": [
    "for values in drivers.values():\n",
    "    print(values)"
   ]
  },
  {
   "cell_type": "code",
   "execution_count": 23,
   "id": "059f2079-81cc-42ed-a388-de0d6d495325",
   "metadata": {},
   "outputs": [
    {
     "name": "stdout",
     "output_type": "stream",
     "text": [
      "name : abul \n",
      "\n",
      "id : 111 \n",
      "\n",
      "plate : 10203 \n",
      "\n",
      "age : 25 \n",
      "\n"
     ]
    }
   ],
   "source": [
    "for key,value in drivers.items():\n",
    "    print(key,':',value,'\\n')"
   ]
  },
  {
   "cell_type": "code",
   "execution_count": 30,
   "id": "530c629b-168b-4a7b-8094-009e21ba060e",
   "metadata": {},
   "outputs": [],
   "source": [
    "students = ['abil','montu','jamil']"
   ]
  },
  {
   "cell_type": "code",
   "execution_count": 31,
   "id": "1f8f07d9-84c0-4d9b-b506-6c49efee0449",
   "metadata": {},
   "outputs": [
    {
     "data": {
      "text/plain": [
       "['abil', 'montu', 'jamil']"
      ]
     },
     "execution_count": 31,
     "metadata": {},
     "output_type": "execute_result"
    }
   ],
   "source": [
    "students"
   ]
  },
  {
   "cell_type": "code",
   "execution_count": 32,
   "id": "2eb59e00-2358-48a0-9399-037eba2f82bd",
   "metadata": {},
   "outputs": [],
   "source": [
    "mod_student = [each.upper() for each in students]"
   ]
  },
  {
   "cell_type": "code",
   "execution_count": 33,
   "id": "c68790dd-fa09-4735-877a-e077fd250931",
   "metadata": {},
   "outputs": [
    {
     "data": {
      "text/plain": [
       "['ABIL', 'MONTU', 'JAMIL']"
      ]
     },
     "execution_count": 33,
     "metadata": {},
     "output_type": "execute_result"
    }
   ],
   "source": [
    "mod_student"
   ]
  },
  {
   "cell_type": "markdown",
   "id": "dbadc329-db8d-4ca5-a269-e5c3faf08474",
   "metadata": {},
   "source": [
    "## 6. Functions"
   ]
  },
  {
   "cell_type": "code",
   "execution_count": 35,
   "id": "97d313e3-f1ce-4f93-8495-0f70f1545386",
   "metadata": {},
   "outputs": [],
   "source": [
    "def greeting():\n",
    "    print('good morning')"
   ]
  },
  {
   "cell_type": "code",
   "execution_count": 36,
   "id": "37fca328-7e0c-4d6b-b2f0-4836c6333975",
   "metadata": {},
   "outputs": [
    {
     "name": "stdout",
     "output_type": "stream",
     "text": [
      "good morning\n"
     ]
    }
   ],
   "source": [
    "greeting()"
   ]
  },
  {
   "cell_type": "code",
   "execution_count": 37,
   "id": "107326a3-d382-4e33-a2de-6e2cbe8c23ce",
   "metadata": {},
   "outputs": [
    {
     "data": {
      "text/plain": [
       "[1, 2, 3, 4, 5, 6, 7]"
      ]
     },
     "execution_count": 37,
     "metadata": {},
     "output_type": "execute_result"
    }
   ],
   "source": [
    "roll = [1,2,3,4,5,6,7]\n",
    "roll"
   ]
  },
  {
   "cell_type": "code",
   "execution_count": 40,
   "id": "529e7204-ef8a-4b04-8885-7e3c8dadc943",
   "metadata": {},
   "outputs": [],
   "source": [
    "def attendence(roll):\n",
    "    print('{} is in the class'.format(roll))"
   ]
  },
  {
   "cell_type": "code",
   "execution_count": 41,
   "id": "9c5fb173-2712-43d1-afee-e99fa405b56d",
   "metadata": {},
   "outputs": [
    {
     "name": "stdout",
     "output_type": "stream",
     "text": [
      "1 is in the class\n",
      "2 is in the class\n",
      "3 is in the class\n",
      "4 is in the class\n",
      "5 is in the class\n",
      "6 is in the class\n",
      "7 is in the class\n"
     ]
    }
   ],
   "source": [
    "for r in roll:\n",
    "    attendence(r)"
   ]
  },
  {
   "cell_type": "code",
   "execution_count": 42,
   "id": "acff49a3-9aff-4dce-9559-b5df6684e9da",
   "metadata": {},
   "outputs": [],
   "source": [
    "detail = {\n",
    "    'name':'abdul',\n",
    "    'location':'bd',\n",
    "    'contact': 1234\n",
    "}"
   ]
  },
  {
   "cell_type": "code",
   "execution_count": 43,
   "id": "1eb238fb-566d-4dd7-b3e1-7c844a8e97c7",
   "metadata": {},
   "outputs": [
    {
     "data": {
      "text/plain": [
       "{'name': 'abdul', 'location': 'bd', 'contact': 1234}"
      ]
     },
     "execution_count": 43,
     "metadata": {},
     "output_type": "execute_result"
    }
   ],
   "source": [
    "detail"
   ]
  },
  {
   "cell_type": "code",
   "execution_count": 48,
   "id": "694ee725-18c0-427b-9537-5ddf58478c11",
   "metadata": {},
   "outputs": [],
   "source": [
    "def find(key,value):\n",
    "    print('key-> {} and value-> {}'.format(key,value))"
   ]
  },
  {
   "cell_type": "code",
   "execution_count": 49,
   "id": "42f93b4f-a550-4032-97e8-44ea3c8b3090",
   "metadata": {},
   "outputs": [
    {
     "name": "stdout",
     "output_type": "stream",
     "text": [
      "key-> name and value-> abdul\n",
      "key-> location and value-> bd\n",
      "key-> contact and value-> 1234\n"
     ]
    }
   ],
   "source": [
    "for k,v in detail.items():\n",
    "    find(k,v)"
   ]
  },
  {
   "cell_type": "code",
   "execution_count": 51,
   "id": "c28579f2-c748-4359-80df-e1dd15a7bbba",
   "metadata": {},
   "outputs": [
    {
     "data": {
      "text/plain": [
       "['abil', 'montu', 'jamil']"
      ]
     },
     "execution_count": 51,
     "metadata": {},
     "output_type": "execute_result"
    }
   ],
   "source": [
    "students"
   ]
  },
  {
   "cell_type": "code",
   "execution_count": 55,
   "id": "bb306a21-a500-4e2a-81a9-43e12dbc1da2",
   "metadata": {},
   "outputs": [],
   "source": [
    "students.append('sana') "
   ]
  },
  {
   "cell_type": "code",
   "execution_count": 56,
   "id": "58f7d068-3b07-452c-a125-d32a18e90741",
   "metadata": {},
   "outputs": [
    {
     "data": {
      "text/plain": [
       "['abil', 'montu', 'jamil', 'sana']"
      ]
     },
     "execution_count": 56,
     "metadata": {},
     "output_type": "execute_result"
    }
   ],
   "source": [
    "students"
   ]
  },
  {
   "cell_type": "code",
   "execution_count": 59,
   "id": "4d781445-fd21-4836-a84a-facaa5356419",
   "metadata": {},
   "outputs": [],
   "source": [
    "students.append('raju')\n",
    "students.append('monju')\n",
    "students.append('mili')"
   ]
  },
  {
   "cell_type": "code",
   "execution_count": 60,
   "id": "204e49fb-ee7c-4e46-8293-4007cf532ded",
   "metadata": {},
   "outputs": [
    {
     "data": {
      "text/plain": [
       "['abil', 'montu', 'jamil', 'sana', 'raju', 'raju', 'monju', 'mili']"
      ]
     },
     "execution_count": 60,
     "metadata": {},
     "output_type": "execute_result"
    }
   ],
   "source": [
    "students"
   ]
  },
  {
   "cell_type": "code",
   "execution_count": 64,
   "id": "a891ca6a-5559-484a-a77c-fe2a900b1e24",
   "metadata": {},
   "outputs": [
    {
     "name": "stdout",
     "output_type": "stream",
     "text": [
      "0 abil\n",
      "1 montu\n",
      "2 jamil\n",
      "3 sana\n",
      "4 raju\n",
      "5 raju\n",
      "6 monju\n"
     ]
    }
   ],
   "source": [
    "for idx,std in enumerate(students):\n",
    "    print(idx, std)"
   ]
  },
  {
   "cell_type": "code",
   "execution_count": 62,
   "id": "ea65777f-4bc2-4403-93a4-8903ca988039",
   "metadata": {},
   "outputs": [],
   "source": [
    "del students[7]"
   ]
  },
  {
   "cell_type": "code",
   "execution_count": 63,
   "id": "9c191cbe-3ea0-4572-8a21-ae6c7d4eda66",
   "metadata": {},
   "outputs": [
    {
     "data": {
      "text/plain": [
       "['abil', 'montu', 'jamil', 'sana', 'raju', 'raju', 'monju']"
      ]
     },
     "execution_count": 63,
     "metadata": {},
     "output_type": "execute_result"
    }
   ],
   "source": [
    "students"
   ]
  },
  {
   "cell_type": "code",
   "execution_count": 65,
   "id": "103a6982-e3d6-4e82-979c-3926fcddac22",
   "metadata": {},
   "outputs": [
    {
     "data": {
      "text/plain": [
       "[1, 2, 3, 4, 5, 6, 7]"
      ]
     },
     "execution_count": 65,
     "metadata": {},
     "output_type": "execute_result"
    }
   ],
   "source": [
    "roll"
   ]
  },
  {
   "cell_type": "code",
   "execution_count": 66,
   "id": "e6885494-dc96-4e26-bee6-5f1270390463",
   "metadata": {},
   "outputs": [],
   "source": [
    "def studentPresent(roll,student):\n",
    "    print('{} who\\'s roll is {} is present in class'.format(student,roll))"
   ]
  },
  {
   "cell_type": "code",
   "execution_count": 67,
   "id": "3d65961c-3112-4e0b-9e4c-c37089c48e3a",
   "metadata": {},
   "outputs": [
    {
     "name": "stdout",
     "output_type": "stream",
     "text": [
      "abil who's roll is 1 is present in class\n",
      "montu who's roll is 2 is present in class\n",
      "jamil who's roll is 3 is present in class\n",
      "sana who's roll is 4 is present in class\n",
      "raju who's roll is 5 is present in class\n",
      "raju who's roll is 6 is present in class\n",
      "monju who's roll is 7 is present in class\n"
     ]
    }
   ],
   "source": [
    "for idx, std in enumerate(students):\n",
    "    count = roll[idx]\n",
    "    studentPresent(count,std)"
   ]
  },
  {
   "cell_type": "code",
   "execution_count": 68,
   "id": "94d3e7a9-e2d2-45c5-9d9a-3b11c32e3920",
   "metadata": {},
   "outputs": [],
   "source": [
    "roll.append(8)"
   ]
  },
  {
   "cell_type": "code",
   "execution_count": 69,
   "id": "878da4ab-5afb-40aa-bd6d-ea8553ffce58",
   "metadata": {},
   "outputs": [
    {
     "data": {
      "text/plain": [
       "[1, 2, 3, 4, 5, 6, 7, 8]"
      ]
     },
     "execution_count": 69,
     "metadata": {},
     "output_type": "execute_result"
    }
   ],
   "source": [
    "roll"
   ]
  },
  {
   "cell_type": "code",
   "execution_count": 70,
   "id": "6a7bf313-14cd-4814-83e5-98e5f0979f43",
   "metadata": {},
   "outputs": [
    {
     "name": "stdout",
     "output_type": "stream",
     "text": [
      "abil who's roll is 1 is present in class\n",
      "montu who's roll is 2 is present in class\n",
      "jamil who's roll is 3 is present in class\n",
      "sana who's roll is 4 is present in class\n",
      "raju who's roll is 5 is present in class\n",
      "raju who's roll is 6 is present in class\n",
      "monju who's roll is 7 is present in class\n"
     ]
    }
   ],
   "source": [
    "for idx, std in enumerate(students):\n",
    "    count = roll[idx]\n",
    "    studentPresent(count,std)"
   ]
  },
  {
   "cell_type": "code",
   "execution_count": 2,
   "id": "0c82f1e8-80e2-4078-afbd-29ba9ccd510b",
   "metadata": {},
   "outputs": [],
   "source": [
    "student = ['henry','kazi','nurul','islam']"
   ]
  },
  {
   "cell_type": "code",
   "execution_count": 3,
   "id": "2c610fc6-5bf8-4e8a-acd1-b7f1a235a1f3",
   "metadata": {},
   "outputs": [
    {
     "data": {
      "text/plain": [
       "['henry', 'kazi', 'nurul', 'islam']"
      ]
     },
     "execution_count": 3,
     "metadata": {},
     "output_type": "execute_result"
    }
   ],
   "source": [
    "student"
   ]
  },
  {
   "cell_type": "code",
   "execution_count": 4,
   "id": "840cbe4d-8cc3-43e8-b466-cc67b83e0a05",
   "metadata": {},
   "outputs": [
    {
     "data": {
      "text/plain": [
       "[1, 2, 3, 4, 5]"
      ]
     },
     "execution_count": 4,
     "metadata": {},
     "output_type": "execute_result"
    }
   ],
   "source": [
    "roll = [1,2,3,4,5]\n",
    "roll"
   ]
  },
  {
   "cell_type": "code",
   "execution_count": 5,
   "id": "5d56cf40-2b73-4fc1-81bf-97fe1acdf7a5",
   "metadata": {},
   "outputs": [],
   "source": [
    "def defyStd(name, roll, bench='left'):\n",
    "    print('{} assigned with roll {}, sit on {} bench'.format(name,roll,bench))"
   ]
  },
  {
   "cell_type": "code",
   "execution_count": 6,
   "id": "8f24586e-44d7-4eb4-823b-b1f572f454c0",
   "metadata": {},
   "outputs": [
    {
     "name": "stdout",
     "output_type": "stream",
     "text": [
      "henry assigned with roll 2, sit on left bench\n"
     ]
    }
   ],
   "source": [
    "defyStd('henry',2)"
   ]
  },
  {
   "cell_type": "code",
   "execution_count": 7,
   "id": "04c88505-5837-4f98-9046-af4a1adf536f",
   "metadata": {},
   "outputs": [
    {
     "name": "stdout",
     "output_type": "stream",
     "text": [
      "nurul assigned with roll 4, sit on right bench\n"
     ]
    }
   ],
   "source": [
    "defyStd('nurul',4,bench='right')"
   ]
  },
  {
   "cell_type": "code",
   "execution_count": 9,
   "id": "d296232e-6d5d-45ff-8d77-87ee534954c1",
   "metadata": {},
   "outputs": [],
   "source": [
    "def defyStd(name, roll, bench='left', pos='stand'):\n",
    "    print('{} assigned with roll {}, {} on {} bench'.format(name,roll,pos,bench))"
   ]
  },
  {
   "cell_type": "code",
   "execution_count": 10,
   "id": "645c1789-6762-43a5-ad79-372cf744eba6",
   "metadata": {},
   "outputs": [
    {
     "name": "stdout",
     "output_type": "stream",
     "text": [
      "nuru assigned with roll 3, stand on left bench\n"
     ]
    }
   ],
   "source": [
    "defyStd('nuru',3)"
   ]
  },
  {
   "cell_type": "code",
   "execution_count": 11,
   "id": "674af42d-c98e-4c2f-bd83-e3f02a4be25d",
   "metadata": {},
   "outputs": [
    {
     "name": "stdout",
     "output_type": "stream",
     "text": [
      "nurul assigned with roll 4, sit on mid bench\n"
     ]
    }
   ],
   "source": [
    "defyStd('nurul',4,pos='sit',bench='mid')"
   ]
  },
  {
   "cell_type": "code",
   "execution_count": 12,
   "id": "42e1a423-0a3b-4758-ae1e-cb09d328290c",
   "metadata": {},
   "outputs": [],
   "source": [
    "def greet():\n",
    "    return 'hello'"
   ]
  },
  {
   "cell_type": "code",
   "execution_count": 14,
   "id": "4d4c76f9-cb23-4bf8-9a6b-c3b496e77e72",
   "metadata": {
    "scrolled": true
   },
   "outputs": [
    {
     "name": "stdout",
     "output_type": "stream",
     "text": [
      "hello hello\n"
     ]
    }
   ],
   "source": [
    "morning = greet()\n",
    "print('hello '+morning)"
   ]
  },
  {
   "cell_type": "markdown",
   "id": "3eba1d03-97d5-47b4-aaec-91b8519449a1",
   "metadata": {},
   "source": [
    "## 7. Classes"
   ]
  },
  {
   "cell_type": "code",
   "execution_count": 93,
   "id": "30bfca95-1c66-4323-8542-ba9bb742fd2b",
   "metadata": {},
   "outputs": [],
   "source": [
    "class chaddi:\n",
    "    def __init__(self, size, color):\n",
    "        self.size = size\n",
    "        self.color = color\n",
    "\n",
    "    def chaddi_size(self):\n",
    "        return 'Chaddi size is {}'.format(self.size)\n",
    "\n",
    "    def order_chaddi(self, weeks=2):\n",
    "        return 'Parcel {} size chaddi within {} weeks'.format(self.size,weeks)"
   ]
  },
  {
   "cell_type": "code",
   "execution_count": 57,
   "id": "fa88fbfb-de45-4a57-8da1-d4f2c3dbe40e",
   "metadata": {},
   "outputs": [],
   "source": [
    "customer1 = chaddi('big','green')"
   ]
  },
  {
   "cell_type": "code",
   "execution_count": 87,
   "id": "833a8944-b073-4e3b-8f86-c953fce9c851",
   "metadata": {},
   "outputs": [
    {
     "data": {
      "text/plain": [
       "'big'"
      ]
     },
     "execution_count": 87,
     "metadata": {},
     "output_type": "execute_result"
    }
   ],
   "source": [
    "customer1.size"
   ]
  },
  {
   "cell_type": "code",
   "execution_count": 88,
   "id": "f7905526-efeb-4db9-9875-c1ebbfc58231",
   "metadata": {},
   "outputs": [
    {
     "data": {
      "text/plain": [
       "'green'"
      ]
     },
     "execution_count": 88,
     "metadata": {},
     "output_type": "execute_result"
    }
   ],
   "source": [
    "customer1.color"
   ]
  },
  {
   "cell_type": "code",
   "execution_count": 95,
   "id": "f4ff9f00-dd0e-456f-b478-e73b1e250df3",
   "metadata": {},
   "outputs": [
    {
     "name": "stdout",
     "output_type": "stream",
     "text": [
      "Chaddi size is big\n"
     ]
    }
   ],
   "source": [
    "order = customer1.chaddi_size()\n",
    "print(order)"
   ]
  },
  {
   "cell_type": "code",
   "execution_count": 96,
   "id": "19f04bf3-3116-4705-b463-f681fe60d79a",
   "metadata": {},
   "outputs": [],
   "source": [
    "customer2 = chaddi('small','black')"
   ]
  },
  {
   "cell_type": "code",
   "execution_count": 97,
   "id": "8328e8ff-3c95-46e0-ad3f-299ab51c9be9",
   "metadata": {},
   "outputs": [
    {
     "data": {
      "text/plain": [
       "'small'"
      ]
     },
     "execution_count": 97,
     "metadata": {},
     "output_type": "execute_result"
    }
   ],
   "source": [
    "customer2.size"
   ]
  },
  {
   "cell_type": "code",
   "execution_count": 98,
   "id": "84fa3802-557a-448d-a265-bea6a83be524",
   "metadata": {},
   "outputs": [
    {
     "data": {
      "text/plain": [
       "'black'"
      ]
     },
     "execution_count": 98,
     "metadata": {},
     "output_type": "execute_result"
    }
   ],
   "source": [
    "customer2.color"
   ]
  },
  {
   "cell_type": "code",
   "execution_count": 99,
   "id": "423551ec-6a1d-48af-8efe-245d636b3ae9",
   "metadata": {},
   "outputs": [
    {
     "data": {
      "text/plain": [
       "'Chaddi size is small'"
      ]
     },
     "execution_count": 99,
     "metadata": {},
     "output_type": "execute_result"
    }
   ],
   "source": [
    "customer2.chaddi_size()"
   ]
  },
  {
   "cell_type": "code",
   "execution_count": 100,
   "id": "ba990b32-9085-47d0-bd78-05670a29ecbd",
   "metadata": {},
   "outputs": [
    {
     "data": {
      "text/plain": [
       "'Parcel small size chaddi within 2 weeks'"
      ]
     },
     "execution_count": 100,
     "metadata": {},
     "output_type": "execute_result"
    }
   ],
   "source": [
    "customer2.order_chaddi()"
   ]
  },
  {
   "cell_type": "code",
   "execution_count": 102,
   "id": "911cc657-e44e-4fa2-9908-849a4e937edf",
   "metadata": {},
   "outputs": [
    {
     "name": "stdout",
     "output_type": "stream",
     "text": [
      "Parcel small size chaddi within 4 weeks\n"
     ]
    }
   ],
   "source": [
    "confirm_order = customer2.order_chaddi(weeks=4)\n",
    "print(confirm_order)"
   ]
  },
  {
   "cell_type": "code",
   "execution_count": 111,
   "id": "ff690b08-4b62-4567-a058-48fb255319bc",
   "metadata": {},
   "outputs": [],
   "source": [
    "class factory(chaddi):\n",
    "    def __init__(self, size, color, name, material):\n",
    "        super().__init__(size,color)\n",
    "        self.name = name\n",
    "        self.material = material"
   ]
  },
  {
   "cell_type": "code",
   "execution_count": 104,
   "id": "55e9f336-0a03-4790-b712-f38e2ce6087b",
   "metadata": {},
   "outputs": [],
   "source": [
    "order1 = factory(38,'red','alamin','cotton')"
   ]
  },
  {
   "cell_type": "code",
   "execution_count": 105,
   "id": "9513c552-1054-4615-b0b1-725254ffaeac",
   "metadata": {},
   "outputs": [
    {
     "data": {
      "text/plain": [
       "38"
      ]
     },
     "execution_count": 105,
     "metadata": {},
     "output_type": "execute_result"
    }
   ],
   "source": [
    "order1.size"
   ]
  },
  {
   "cell_type": "code",
   "execution_count": 106,
   "id": "c0b45ca2-6aa2-4da3-9630-da4a5d1cf56f",
   "metadata": {},
   "outputs": [
    {
     "data": {
      "text/plain": [
       "'red'"
      ]
     },
     "execution_count": 106,
     "metadata": {},
     "output_type": "execute_result"
    }
   ],
   "source": [
    "order1.color"
   ]
  },
  {
   "cell_type": "code",
   "execution_count": 107,
   "id": "bd2874b5-2083-4b0e-a0ca-dcdb1377a808",
   "metadata": {},
   "outputs": [
    {
     "data": {
      "text/plain": [
       "'alamin'"
      ]
     },
     "execution_count": 107,
     "metadata": {},
     "output_type": "execute_result"
    }
   ],
   "source": [
    "order1.name"
   ]
  },
  {
   "cell_type": "code",
   "execution_count": 109,
   "id": "0cbbb2cd-8c1f-4775-bb16-8bc451b12830",
   "metadata": {},
   "outputs": [
    {
     "data": {
      "text/plain": [
       "'Chaddi size is 38'"
      ]
     },
     "execution_count": 109,
     "metadata": {},
     "output_type": "execute_result"
    }
   ],
   "source": [
    "order1.chaddi_size()"
   ]
  },
  {
   "cell_type": "code",
   "execution_count": 110,
   "id": "d235ef1a-deff-47da-97d2-30cb08f01b68",
   "metadata": {},
   "outputs": [
    {
     "data": {
      "text/plain": [
       "'Parcel 38 size chaddi within 2 weeks'"
      ]
     },
     "execution_count": 110,
     "metadata": {},
     "output_type": "execute_result"
    }
   ],
   "source": [
    "order1.order_chaddi()"
   ]
  },
  {
   "cell_type": "markdown",
   "id": "bba57d40-96bb-4249-9e95-ee9aee7cd8f3",
   "metadata": {},
   "source": [
    "# 9. Modules"
   ]
  },
  {
   "cell_type": "code",
   "execution_count": 112,
   "id": "7ecf7584-db79-463c-bc26-ca2128537dc2",
   "metadata": {},
   "outputs": [],
   "source": [
    "from test import code"
   ]
  },
  {
   "cell_type": "code",
   "execution_count": 114,
   "id": "38a89a8b-686c-400c-8d1c-6dee855f9648",
   "metadata": {},
   "outputs": [
    {
     "data": {
      "text/plain": [
       "11213240"
      ]
     },
     "execution_count": 114,
     "metadata": {},
     "output_type": "execute_result"
    }
   ],
   "source": [
    "code()"
   ]
  },
  {
   "cell_type": "markdown",
   "id": "9efac8df-b51c-4010-b04b-76961bd07db1",
   "metadata": {},
   "source": [
    "# 10. Working with packages"
   ]
  },
  {
   "cell_type": "code",
   "execution_count": 119,
   "id": "b7316a08-566b-4f20-a392-f4ce16d09d30",
   "metadata": {},
   "outputs": [
    {
     "name": "stdout",
     "output_type": "stream",
     "text": [
      "Defaulting to user installation because normal site-packages is not writeable\n",
      "Requirement already satisfied: requests in d:\\anaconda_inst\\lib\\site-packages (2.32.3)\n",
      "Requirement already satisfied: charset-normalizer<4,>=2 in d:\\anaconda_inst\\lib\\site-packages (from requests) (3.3.2)\n",
      "Requirement already satisfied: idna<4,>=2.5 in d:\\anaconda_inst\\lib\\site-packages (from requests) (3.7)\n",
      "Requirement already satisfied: urllib3<3,>=1.21.1 in d:\\anaconda_inst\\lib\\site-packages (from requests) (2.2.3)\n",
      "Requirement already satisfied: certifi>=2017.4.17 in d:\\anaconda_inst\\lib\\site-packages (from requests) (2024.8.30)\n"
     ]
    }
   ],
   "source": [
    "!pip install requests"
   ]
  },
  {
   "cell_type": "code",
   "execution_count": 120,
   "id": "497bbab4-4772-4b59-ae96-aa4dbb9090ae",
   "metadata": {},
   "outputs": [
    {
     "name": "stdout",
     "output_type": "stream",
     "text": [
      "Package                           Version\n",
      "--------------------------------- ------------------\n",
      "aiobotocore                       2.12.3\n",
      "aiohappyeyeballs                  2.4.0\n",
      "aiohttp                           3.10.5\n",
      "aioitertools                      0.7.1\n",
      "aiosignal                         1.2.0\n",
      "alabaster                         0.7.16\n",
      "altair                            5.0.1\n",
      "anaconda-anon-usage               0.4.4\n",
      "anaconda-catalogs                 0.2.0\n",
      "anaconda-client                   1.12.3\n",
      "anaconda-cloud-auth               0.5.1\n",
      "anaconda-navigator                2.6.3\n",
      "anaconda-project                  0.11.1\n",
      "annotated-types                   0.6.0\n",
      "anyio                             4.2.0\n",
      "appdirs                           1.4.4\n",
      "archspec                          0.2.3\n",
      "argon2-cffi                       21.3.0\n",
      "argon2-cffi-bindings              21.2.0\n",
      "arrow                             1.2.3\n",
      "astroid                           2.14.2\n",
      "astropy                           6.1.3\n",
      "astropy-iers-data                 0.2024.9.2.0.33.23\n",
      "asttokens                         2.0.5\n",
      "async-lru                         2.0.4\n",
      "atomicwrites                      1.4.0\n",
      "attrs                             23.1.0\n",
      "Automat                           20.2.0\n",
      "autopep8                          2.0.4\n",
      "Babel                             2.11.0\n",
      "bcrypt                            3.2.0\n",
      "beautifulsoup4                    4.12.3\n",
      "binaryornot                       0.4.4\n",
      "black                             24.8.0\n",
      "bleach                            4.1.0\n",
      "blinker                           1.6.2\n",
      "bokeh                             3.6.0\n",
      "boltons                           23.0.0\n",
      "botocore                          1.34.69\n",
      "Bottleneck                        1.3.7\n",
      "Brotli                            1.0.9\n",
      "cachetools                        5.3.3\n",
      "certifi                           2024.8.30\n",
      "cffi                              1.17.1\n",
      "chardet                           4.0.0\n",
      "charset-normalizer                3.3.2\n",
      "click                             8.1.7\n",
      "cloudpickle                       3.0.0\n",
      "colorama                          0.4.6\n",
      "colorcet                          3.1.0\n",
      "comm                              0.2.1\n",
      "conda                             24.9.2\n",
      "conda-build                       24.9.0\n",
      "conda-content-trust               0.2.0\n",
      "conda_index                       0.5.0\n",
      "conda-libmamba-solver             24.9.0\n",
      "conda-pack                        0.7.1\n",
      "conda-package-handling            2.3.0\n",
      "conda_package_streaming           0.10.0\n",
      "conda-repo-cli                    1.0.114\n",
      "conda-token                       0.5.0+1.g2209e04\n",
      "constantly                        23.10.4\n",
      "contourpy                         1.2.0\n",
      "cookiecutter                      2.6.0\n",
      "cryptography                      43.0.0\n",
      "cssselect                         1.2.0\n",
      "cycler                            0.11.0\n",
      "cytoolz                           0.12.2\n",
      "dask                              2024.8.2\n",
      "dask-expr                         1.1.13\n",
      "datashader                        0.16.3\n",
      "debugpy                           1.6.7\n",
      "decorator                         5.1.1\n",
      "defusedxml                        0.7.1\n",
      "diff-match-patch                  20200713\n",
      "dill                              0.3.8\n",
      "distributed                       2024.8.2\n",
      "distro                            1.9.0\n",
      "docstring-to-markdown             0.11\n",
      "docutils                          0.18.1\n",
      "et-xmlfile                        1.1.0\n",
      "executing                         0.8.3\n",
      "fastjsonschema                    2.16.2\n",
      "filelock                          3.13.1\n",
      "flake8                            7.0.0\n",
      "Flask                             3.0.3\n",
      "fonttools                         4.51.0\n",
      "frozendict                        2.4.2\n",
      "frozenlist                        1.4.0\n",
      "fsspec                            2024.6.1\n",
      "gensim                            4.3.3\n",
      "gitdb                             4.0.7\n",
      "GitPython                         3.1.43\n",
      "greenlet                          3.0.1\n",
      "h11                               0.14.0\n",
      "h5py                              3.11.0\n",
      "HeapDict                          1.0.1\n",
      "holoviews                         1.19.1\n",
      "httpcore                          1.0.2\n",
      "httpx                             0.27.0\n",
      "hvplot                            0.11.0\n",
      "hyperlink                         21.0.0\n",
      "idna                              3.7\n",
      "imagecodecs                       2023.1.23\n",
      "imageio                           2.33.1\n",
      "imagesize                         1.4.1\n",
      "imbalanced-learn                  0.12.3\n",
      "importlib-metadata                7.0.1\n",
      "incremental                       22.10.0\n",
      "inflection                        0.5.1\n",
      "iniconfig                         1.1.1\n",
      "intake                            2.0.7\n",
      "intervaltree                      3.1.0\n",
      "ipykernel                         6.28.0\n",
      "ipython                           8.27.0\n",
      "ipython-genutils                  0.2.0\n",
      "ipywidgets                        7.8.1\n",
      "isort                             5.13.2\n",
      "itemadapter                       0.3.0\n",
      "itemloaders                       1.1.0\n",
      "itsdangerous                      2.2.0\n",
      "jaraco.classes                    3.2.1\n",
      "jedi                              0.19.1\n",
      "jellyfish                         1.0.1\n",
      "Jinja2                            3.1.4\n",
      "jmespath                          1.0.1\n",
      "joblib                            1.4.2\n",
      "json5                             0.9.6\n",
      "jsonpatch                         1.33\n",
      "jsonpointer                       2.1\n",
      "jsonschema                        4.23.0\n",
      "jsonschema-specifications         2023.7.1\n",
      "jupyter                           1.0.0\n",
      "jupyter_client                    8.6.0\n",
      "jupyter-console                   6.6.3\n",
      "jupyter_core                      5.7.2\n",
      "jupyter-events                    0.10.0\n",
      "jupyter-lsp                       2.2.0\n",
      "jupyter_server                    2.14.1\n",
      "jupyter_server_terminals          0.4.4\n",
      "jupyterlab                        4.2.5\n",
      "jupyterlab-pygments               0.1.2\n",
      "jupyterlab_server                 2.27.3\n",
      "jupyterlab-widgets                1.0.0\n",
      "keyring                           24.3.1\n",
      "kiwisolver                        1.4.4\n",
      "lazy_loader                       0.4\n",
      "lazy-object-proxy                 1.10.0\n",
      "lckr_jupyterlab_variableinspector 3.1.0\n",
      "libarchive-c                      5.1\n",
      "libmambapy                        1.5.8\n",
      "linkify-it-py                     2.0.0\n",
      "llvmlite                          0.43.0\n",
      "lmdb                              1.4.1\n",
      "locket                            1.0.0\n",
      "lxml                              5.2.1\n",
      "lz4                               4.3.2\n",
      "Markdown                          3.4.1\n",
      "markdown-it-py                    2.2.0\n",
      "MarkupSafe                        2.1.3\n",
      "matplotlib                        3.9.2\n",
      "matplotlib-inline                 0.1.6\n",
      "mccabe                            0.7.0\n",
      "mdit-py-plugins                   0.3.0\n",
      "mdurl                             0.1.0\n",
      "menuinst                          2.1.2\n",
      "mistune                           2.0.4\n",
      "mkl_fft                           1.3.10\n",
      "mkl_random                        1.2.7\n",
      "mkl-service                       2.4.0\n",
      "more-itertools                    10.3.0\n",
      "mpmath                            1.3.0\n",
      "msgpack                           1.0.3\n",
      "multidict                         6.0.4\n",
      "multipledispatch                  0.6.0\n",
      "mypy                              1.11.2\n",
      "mypy-extensions                   1.0.0\n",
      "navigator-updater                 0.5.1\n",
      "nbclient                          0.8.0\n",
      "nbconvert                         7.16.4\n",
      "nbformat                          5.10.4\n",
      "nest-asyncio                      1.6.0\n",
      "networkx                          3.3\n",
      "nltk                              3.9.1\n",
      "notebook                          7.2.2\n",
      "notebook_shim                     0.2.3\n",
      "numba                             0.60.0\n",
      "numexpr                           2.8.7\n",
      "numpy                             1.26.4\n",
      "numpydoc                          1.7.0\n",
      "openpyxl                          3.1.5\n",
      "overrides                         7.4.0\n",
      "packaging                         24.1\n",
      "pandas                            2.2.2\n",
      "pandocfilters                     1.5.0\n",
      "panel                             1.5.2\n",
      "param                             2.1.1\n",
      "paramiko                          2.8.1\n",
      "parsel                            1.8.1\n",
      "parso                             0.8.3\n",
      "partd                             1.4.1\n",
      "pathspec                          0.10.3\n",
      "patsy                             0.5.6\n",
      "pexpect                           4.8.0\n",
      "pickleshare                       0.7.5\n",
      "pillow                            10.4.0\n",
      "pip                               24.2\n",
      "pkce                              1.0.3\n",
      "pkginfo                           1.10.0\n",
      "platformdirs                      3.10.0\n",
      "plotly                            5.24.1\n",
      "pluggy                            1.0.0\n",
      "ply                               3.11\n",
      "prometheus-client                 0.14.1\n",
      "prompt-toolkit                    3.0.43\n",
      "Protego                           0.1.16\n",
      "protobuf                          4.25.3\n",
      "psutil                            5.9.0\n",
      "ptyprocess                        0.7.0\n",
      "pure-eval                         0.2.2\n",
      "py-cpuinfo                        9.0.0\n",
      "pyarrow                           16.1.0\n",
      "pyasn1                            0.4.8\n",
      "pyasn1-modules                    0.2.8\n",
      "pycodestyle                       2.11.1\n",
      "pycosat                           0.6.6\n",
      "pycparser                         2.21\n",
      "pyct                              0.5.0\n",
      "pycurl                            7.45.3\n",
      "pydantic                          2.8.2\n",
      "pydantic_core                     2.20.1\n",
      "pydeck                            0.8.0\n",
      "PyDispatcher                      2.0.5\n",
      "pydocstyle                        6.3.0\n",
      "pyerfa                            2.0.1.4\n",
      "pyflakes                          3.2.0\n",
      "Pygments                          2.15.1\n",
      "PyJWT                             2.8.0\n",
      "pylint                            2.16.2\n",
      "pylint-venv                       3.0.3\n",
      "pyls-spyder                       0.4.0\n",
      "PyNaCl                            1.5.0\n",
      "pyodbc                            5.1.0\n",
      "pyOpenSSL                         24.2.1\n",
      "pyparsing                         3.1.2\n",
      "PyQt5                             5.15.10\n",
      "PyQt5-sip                         12.13.0\n",
      "PyQtWebEngine                     5.15.6\n",
      "PySocks                           1.7.1\n",
      "pytest                            7.4.4\n",
      "python-dateutil                   2.9.0.post0\n",
      "python-dotenv                     0.21.0\n",
      "python-json-logger                2.0.7\n",
      "python-lsp-black                  2.0.0\n",
      "python-lsp-jsonrpc                1.1.2\n",
      "python-lsp-server                 1.10.0\n",
      "python-slugify                    5.0.2\n",
      "pytoolconfig                      1.2.6\n",
      "pytz                              2024.1\n",
      "pyviz_comms                       3.0.2\n",
      "PyWavelets                        1.7.0\n",
      "pywin32                           305.1\n",
      "pywin32-ctypes                    0.2.2\n",
      "pywinpty                          2.0.10\n",
      "PyYAML                            6.0.1\n",
      "pyzmq                             25.1.2\n",
      "QDarkStyle                        3.2.3\n",
      "qstylizer                         0.2.2\n",
      "QtAwesome                         1.3.1\n",
      "qtconsole                         5.5.1\n",
      "QtPy                              2.4.1\n",
      "queuelib                          1.6.2\n",
      "referencing                       0.30.2\n",
      "regex                             2024.9.11\n",
      "requests                          2.32.3\n",
      "requests-file                     1.5.1\n",
      "requests-toolbelt                 1.0.0\n",
      "rfc3339-validator                 0.1.4\n",
      "rfc3986-validator                 0.1.1\n",
      "rich                              13.7.1\n",
      "rope                              1.12.0\n",
      "rpds-py                           0.10.6\n",
      "Rtree                             1.0.1\n",
      "ruamel.yaml                       0.18.6\n",
      "ruamel.yaml.clib                  0.2.8\n",
      "ruamel-yaml-conda                 0.17.21\n",
      "s3fs                              2024.6.1\n",
      "scikit-image                      0.24.0\n",
      "scikit-learn                      1.5.1\n",
      "scipy                             1.13.1\n",
      "Scrapy                            2.11.1\n",
      "seaborn                           0.13.2\n",
      "semver                            3.0.2\n",
      "Send2Trash                        1.8.2\n",
      "service-identity                  18.1.0\n",
      "setuptools                        75.1.0\n",
      "sip                               6.7.12\n",
      "six                               1.16.0\n",
      "smart-open                        5.2.1\n",
      "smmap                             4.0.0\n",
      "sniffio                           1.3.0\n",
      "snowballstemmer                   2.2.0\n",
      "sortedcontainers                  2.4.0\n",
      "soupsieve                         2.5\n",
      "Sphinx                            7.3.7\n",
      "sphinxcontrib-applehelp           1.0.2\n",
      "sphinxcontrib-devhelp             1.0.2\n",
      "sphinxcontrib-htmlhelp            2.0.0\n",
      "sphinxcontrib-jsmath              1.0.1\n",
      "sphinxcontrib-qthelp              1.0.3\n",
      "sphinxcontrib-serializinghtml     1.1.10\n",
      "spyder                            5.5.1\n",
      "spyder-kernels                    2.5.0\n",
      "SQLAlchemy                        2.0.34\n",
      "stack-data                        0.2.0\n",
      "statsmodels                       0.14.2\n",
      "streamlit                         1.37.1\n",
      "sympy                             1.13.2\n",
      "tables                            3.10.1\n",
      "tabulate                          0.9.0\n",
      "tblib                             1.7.0\n",
      "tenacity                          8.2.3\n",
      "terminado                         0.17.1\n",
      "text-unidecode                    1.3\n",
      "textdistance                      4.2.1\n",
      "threadpoolctl                     3.5.0\n",
      "three-merge                       0.1.1\n",
      "tifffile                          2023.4.12\n",
      "tinycss2                          1.2.1\n",
      "tldextract                        5.1.2\n",
      "toml                              0.10.2\n",
      "tomli                             2.0.1\n",
      "tomlkit                           0.11.1\n",
      "toolz                             0.12.0\n",
      "tornado                           6.4.1\n",
      "tqdm                              4.66.5\n",
      "traitlets                         5.14.3\n",
      "truststore                        0.8.0\n",
      "Twisted                           23.10.0\n",
      "twisted-iocpsupport               1.0.2\n",
      "typing_extensions                 4.11.0\n",
      "tzdata                            2023.3\n",
      "uc-micro-py                       1.0.1\n",
      "ujson                             5.10.0\n",
      "unicodedata2                      15.1.0\n",
      "Unidecode                         1.3.8\n",
      "urllib3                           2.2.3\n",
      "w3lib                             2.1.2\n",
      "watchdog                          4.0.1\n",
      "wcwidth                           0.2.5\n",
      "webencodings                      0.5.1\n",
      "websocket-client                  1.8.0\n",
      "Werkzeug                          3.0.3\n",
      "whatthepatch                      1.0.2\n",
      "wheel                             0.44.0\n",
      "widgetsnbextension                3.6.6\n",
      "win-inet-pton                     1.1.0\n",
      "wrapt                             1.14.1\n",
      "xarray                            2023.6.0\n",
      "xlwings                           0.32.1\n",
      "xyzservices                       2022.9.0\n",
      "yapf                              0.40.2\n",
      "yarl                              1.11.0\n",
      "zict                              3.0.0\n",
      "zipp                              3.17.0\n",
      "zope.interface                    5.4.0\n",
      "zstandard                         0.23.0\n"
     ]
    }
   ],
   "source": [
    "!pip list"
   ]
  },
  {
   "cell_type": "code",
   "execution_count": 123,
   "id": "9de7c9a8-987f-4f3d-abce-48fae2d79077",
   "metadata": {},
   "outputs": [],
   "source": [
    "import requests"
   ]
  },
  {
   "cell_type": "code",
   "execution_count": 128,
   "id": "ac38937c-b4c5-4f6a-a206-2e10b0e5ab85",
   "metadata": {},
   "outputs": [
    {
     "data": {
      "text/plain": [
       "\u001b[1;31mSignature:\u001b[0m \u001b[0mrequests\u001b[0m\u001b[1;33m.\u001b[0m\u001b[0mget\u001b[0m\u001b[1;33m(\u001b[0m\u001b[0murl\u001b[0m\u001b[1;33m,\u001b[0m \u001b[0mparams\u001b[0m\u001b[1;33m=\u001b[0m\u001b[1;32mNone\u001b[0m\u001b[1;33m,\u001b[0m \u001b[1;33m**\u001b[0m\u001b[0mkwargs\u001b[0m\u001b[1;33m)\u001b[0m\u001b[1;33m\u001b[0m\u001b[1;33m\u001b[0m\u001b[0m\n",
       "\u001b[1;31mSource:\u001b[0m   \n",
       "\u001b[1;32mdef\u001b[0m \u001b[0mget\u001b[0m\u001b[1;33m(\u001b[0m\u001b[0murl\u001b[0m\u001b[1;33m,\u001b[0m \u001b[0mparams\u001b[0m\u001b[1;33m=\u001b[0m\u001b[1;32mNone\u001b[0m\u001b[1;33m,\u001b[0m \u001b[1;33m**\u001b[0m\u001b[0mkwargs\u001b[0m\u001b[1;33m)\u001b[0m\u001b[1;33m:\u001b[0m\u001b[1;33m\n",
       "\u001b[0m    \u001b[1;34mr\"\"\"Sends a GET request.\n",
       "\n",
       "    :param url: URL for the new :class:`Request` object.\n",
       "    :param params: (optional) Dictionary, list of tuples or bytes to send\n",
       "        in the query string for the :class:`Request`.\n",
       "    :param \\*\\*kwargs: Optional arguments that ``request`` takes.\n",
       "    :return: :class:`Response <Response>` object\n",
       "    :rtype: requests.Response\n",
       "    \"\"\"\u001b[0m\u001b[1;33m\n",
       "\u001b[0m\u001b[1;33m\n",
       "\u001b[0m    \u001b[1;32mreturn\u001b[0m \u001b[0mrequest\u001b[0m\u001b[1;33m(\u001b[0m\u001b[1;34m\"get\"\u001b[0m\u001b[1;33m,\u001b[0m \u001b[0murl\u001b[0m\u001b[1;33m,\u001b[0m \u001b[0mparams\u001b[0m\u001b[1;33m=\u001b[0m\u001b[0mparams\u001b[0m\u001b[1;33m,\u001b[0m \u001b[1;33m**\u001b[0m\u001b[0mkwargs\u001b[0m\u001b[1;33m)\u001b[0m\u001b[1;33m\u001b[0m\u001b[1;33m\u001b[0m\u001b[0m\n",
       "\u001b[1;31mFile:\u001b[0m      d:\\anaconda_inst\\lib\\site-packages\\requests\\api.py\n",
       "\u001b[1;31mType:\u001b[0m      function"
      ]
     },
     "metadata": {},
     "output_type": "display_data"
    }
   ],
   "source": [
    "requests.get??"
   ]
  },
  {
   "cell_type": "code",
   "execution_count": 124,
   "id": "1f5bba8c-402c-4b82-9625-36b69b852c6b",
   "metadata": {},
   "outputs": [],
   "source": [
    "joke_link = 'https://icanhazdadjoke.com/'\n",
    "sattelite_link = 'https://api.wheretheiss.at/v1/satellites/25544'"
   ]
  },
  {
   "cell_type": "code",
   "execution_count": 136,
   "id": "214d6fb5-c0bf-4e05-b605-fb455fcd7938",
   "metadata": {},
   "outputs": [],
   "source": [
    "my_header = {'Accept':'application/json'}\n",
    "results = requests.get(joke_link, headers = my_header)"
   ]
  },
  {
   "cell_type": "code",
   "execution_count": 130,
   "id": "cdebaf54-60ba-4aa5-8862-93a46483e08f",
   "metadata": {},
   "outputs": [
    {
     "data": {
      "text/plain": [
       "<Response [200]>"
      ]
     },
     "execution_count": 130,
     "metadata": {},
     "output_type": "execute_result"
    }
   ],
   "source": [
    "results"
   ]
  },
  {
   "cell_type": "code",
   "execution_count": 137,
   "id": "9311d3ed-5249-486e-a8fc-ff0aef2b2c05",
   "metadata": {},
   "outputs": [
    {
     "data": {
      "text/plain": [
       "{'id': 'EYoz51DtHtc',\n",
       " 'joke': 'What do computers and air conditioners have in common? They both become useless when you open windows.',\n",
       " 'status': 200}"
      ]
     },
     "execution_count": 137,
     "metadata": {},
     "output_type": "execute_result"
    }
   ],
   "source": [
    "results.json()"
   ]
  },
  {
   "cell_type": "code",
   "execution_count": 139,
   "id": "2c8a80bc-7e8b-434c-9c6d-59689bf37c83",
   "metadata": {},
   "outputs": [
    {
     "data": {
      "text/plain": [
       "dict"
      ]
     },
     "execution_count": 139,
     "metadata": {},
     "output_type": "execute_result"
    }
   ],
   "source": [
    "read_joke = results.json()\n",
    "type(read_joke)"
   ]
  },
  {
   "cell_type": "code",
   "execution_count": 140,
   "id": "88a16735-c251-4c99-926f-039dee489f39",
   "metadata": {},
   "outputs": [
    {
     "data": {
      "text/plain": [
       "'What do computers and air conditioners have in common? They both become useless when you open windows.'"
      ]
     },
     "execution_count": 140,
     "metadata": {},
     "output_type": "execute_result"
    }
   ],
   "source": [
    "read_joke['joke']"
   ]
  },
  {
   "cell_type": "code",
   "execution_count": 141,
   "id": "04a38784-81d4-4c7a-ac2a-0921dd1c6808",
   "metadata": {},
   "outputs": [
    {
     "data": {
      "text/plain": [
       "str"
      ]
     },
     "execution_count": 141,
     "metadata": {},
     "output_type": "execute_result"
    }
   ],
   "source": [
    "type(read_joke['joke'])"
   ]
  },
  {
   "cell_type": "code",
   "execution_count": 142,
   "id": "ff36404d-d352-41eb-bdf4-9e0150224c57",
   "metadata": {},
   "outputs": [
    {
     "data": {
      "text/plain": [
       "<Response [200]>"
      ]
     },
     "execution_count": 142,
     "metadata": {},
     "output_type": "execute_result"
    }
   ],
   "source": [
    "track = requests.get(sattelite_link, headers = my_header)\n",
    "track"
   ]
  },
  {
   "cell_type": "code",
   "execution_count": 144,
   "id": "87d5ac06-1a38-4134-b313-0a89e4dde850",
   "metadata": {},
   "outputs": [
    {
     "name": "stdout",
     "output_type": "stream",
     "text": [
      "{'name': 'iss', 'id': 25544, 'latitude': 12.753893547449, 'longitude': -7.8895414559275, 'altitude': 415.69580586742, 'velocity': 27589.461880304, 'visibility': 'daylight', 'footprint': 4485.5005067267, 'timestamp': 1737723033, 'daynum': 2460700.0351042, 'solar_lat': -19.066915458265, 'solar_lon': 350.39820160025, 'units': 'kilometers'}\n"
     ]
    }
   ],
   "source": [
    "sat_detail = track.json()\n",
    "print(sat_detail)"
   ]
  },
  {
   "cell_type": "markdown",
   "id": "65e188ae-7b51-472a-a34c-400688530e5f",
   "metadata": {},
   "source": [
    "# 11. Working with files"
   ]
  },
  {
   "cell_type": "code",
   "execution_count": 146,
   "id": "8298055c-f93f-4f2b-8a77-c4fbd91182f2",
   "metadata": {},
   "outputs": [
    {
     "data": {
      "text/plain": [
       "\u001b[1;31mSignature:\u001b[0m\n",
       "\u001b[0mopen\u001b[0m\u001b[1;33m(\u001b[0m\u001b[1;33m\n",
       "\u001b[0m    \u001b[0mfile\u001b[0m\u001b[1;33m,\u001b[0m\u001b[1;33m\n",
       "\u001b[0m    \u001b[0mmode\u001b[0m\u001b[1;33m=\u001b[0m\u001b[1;34m'r'\u001b[0m\u001b[1;33m,\u001b[0m\u001b[1;33m\n",
       "\u001b[0m    \u001b[0mbuffering\u001b[0m\u001b[1;33m=\u001b[0m\u001b[1;33m-\u001b[0m\u001b[1;36m1\u001b[0m\u001b[1;33m,\u001b[0m\u001b[1;33m\n",
       "\u001b[0m    \u001b[0mencoding\u001b[0m\u001b[1;33m=\u001b[0m\u001b[1;32mNone\u001b[0m\u001b[1;33m,\u001b[0m\u001b[1;33m\n",
       "\u001b[0m    \u001b[0merrors\u001b[0m\u001b[1;33m=\u001b[0m\u001b[1;32mNone\u001b[0m\u001b[1;33m,\u001b[0m\u001b[1;33m\n",
       "\u001b[0m    \u001b[0mnewline\u001b[0m\u001b[1;33m=\u001b[0m\u001b[1;32mNone\u001b[0m\u001b[1;33m,\u001b[0m\u001b[1;33m\n",
       "\u001b[0m    \u001b[0mclosefd\u001b[0m\u001b[1;33m=\u001b[0m\u001b[1;32mTrue\u001b[0m\u001b[1;33m,\u001b[0m\u001b[1;33m\n",
       "\u001b[0m    \u001b[0mopener\u001b[0m\u001b[1;33m=\u001b[0m\u001b[1;32mNone\u001b[0m\u001b[1;33m,\u001b[0m\u001b[1;33m\n",
       "\u001b[0m\u001b[1;33m)\u001b[0m\u001b[1;33m\u001b[0m\u001b[1;33m\u001b[0m\u001b[0m\n",
       "\u001b[1;31mDocstring:\u001b[0m\n",
       "Open file and return a stream.  Raise OSError upon failure.\n",
       "\n",
       "file is either a text or byte string giving the name (and the path\n",
       "if the file isn't in the current working directory) of the file to\n",
       "be opened or an integer file descriptor of the file to be\n",
       "wrapped. (If a file descriptor is given, it is closed when the\n",
       "returned I/O object is closed, unless closefd is set to False.)\n",
       "\n",
       "mode is an optional string that specifies the mode in which the file\n",
       "is opened. It defaults to 'r' which means open for reading in text\n",
       "mode.  Other common values are 'w' for writing (truncating the file if\n",
       "it already exists), 'x' for creating and writing to a new file, and\n",
       "'a' for appending (which on some Unix systems, means that all writes\n",
       "append to the end of the file regardless of the current seek position).\n",
       "In text mode, if encoding is not specified the encoding used is platform\n",
       "dependent: locale.getencoding() is called to get the current locale encoding.\n",
       "(For reading and writing raw bytes use binary mode and leave encoding\n",
       "unspecified.) The available modes are:\n",
       "\n",
       "========= ===============================================================\n",
       "Character Meaning\n",
       "--------- ---------------------------------------------------------------\n",
       "'r'       open for reading (default)\n",
       "'w'       open for writing, truncating the file first\n",
       "'x'       create a new file and open it for writing\n",
       "'a'       open for writing, appending to the end of the file if it exists\n",
       "'b'       binary mode\n",
       "'t'       text mode (default)\n",
       "'+'       open a disk file for updating (reading and writing)\n",
       "========= ===============================================================\n",
       "\n",
       "The default mode is 'rt' (open for reading text). For binary random\n",
       "access, the mode 'w+b' opens and truncates the file to 0 bytes, while\n",
       "'r+b' opens the file without truncation. The 'x' mode implies 'w' and\n",
       "raises an `FileExistsError` if the file already exists.\n",
       "\n",
       "Python distinguishes between files opened in binary and text modes,\n",
       "even when the underlying operating system doesn't. Files opened in\n",
       "binary mode (appending 'b' to the mode argument) return contents as\n",
       "bytes objects without any decoding. In text mode (the default, or when\n",
       "'t' is appended to the mode argument), the contents of the file are\n",
       "returned as strings, the bytes having been first decoded using a\n",
       "platform-dependent encoding or using the specified encoding if given.\n",
       "\n",
       "buffering is an optional integer used to set the buffering policy.\n",
       "Pass 0 to switch buffering off (only allowed in binary mode), 1 to select\n",
       "line buffering (only usable in text mode), and an integer > 1 to indicate\n",
       "the size of a fixed-size chunk buffer.  When no buffering argument is\n",
       "given, the default buffering policy works as follows:\n",
       "\n",
       "* Binary files are buffered in fixed-size chunks; the size of the buffer\n",
       "  is chosen using a heuristic trying to determine the underlying device's\n",
       "  \"block size\" and falling back on `io.DEFAULT_BUFFER_SIZE`.\n",
       "  On many systems, the buffer will typically be 4096 or 8192 bytes long.\n",
       "\n",
       "* \"Interactive\" text files (files for which isatty() returns True)\n",
       "  use line buffering.  Other text files use the policy described above\n",
       "  for binary files.\n",
       "\n",
       "encoding is the name of the encoding used to decode or encode the\n",
       "file. This should only be used in text mode. The default encoding is\n",
       "platform dependent, but any encoding supported by Python can be\n",
       "passed.  See the codecs module for the list of supported encodings.\n",
       "\n",
       "errors is an optional string that specifies how encoding errors are to\n",
       "be handled---this argument should not be used in binary mode. Pass\n",
       "'strict' to raise a ValueError exception if there is an encoding error\n",
       "(the default of None has the same effect), or pass 'ignore' to ignore\n",
       "errors. (Note that ignoring encoding errors can lead to data loss.)\n",
       "See the documentation for codecs.register or run 'help(codecs.Codec)'\n",
       "for a list of the permitted encoding error strings.\n",
       "\n",
       "newline controls how universal newlines works (it only applies to text\n",
       "mode). It can be None, '', '\\n', '\\r', and '\\r\\n'.  It works as\n",
       "follows:\n",
       "\n",
       "* On input, if newline is None, universal newlines mode is\n",
       "  enabled. Lines in the input can end in '\\n', '\\r', or '\\r\\n', and\n",
       "  these are translated into '\\n' before being returned to the\n",
       "  caller. If it is '', universal newline mode is enabled, but line\n",
       "  endings are returned to the caller untranslated. If it has any of\n",
       "  the other legal values, input lines are only terminated by the given\n",
       "  string, and the line ending is returned to the caller untranslated.\n",
       "\n",
       "* On output, if newline is None, any '\\n' characters written are\n",
       "  translated to the system default line separator, os.linesep. If\n",
       "  newline is '' or '\\n', no translation takes place. If newline is any\n",
       "  of the other legal values, any '\\n' characters written are translated\n",
       "  to the given string.\n",
       "\n",
       "If closefd is False, the underlying file descriptor will be kept open\n",
       "when the file is closed. This does not work when a file name is given\n",
       "and must be True in that case.\n",
       "\n",
       "A custom opener can be used by passing a callable as *opener*. The\n",
       "underlying file descriptor for the file object is then obtained by\n",
       "calling *opener* with (*file*, *flags*). *opener* must return an open\n",
       "file descriptor (passing os.open as *opener* results in functionality\n",
       "similar to passing None).\n",
       "\n",
       "open() returns a file object whose type depends on the mode, and\n",
       "through which the standard file operations such as reading and writing\n",
       "are performed. When open() is used to open a file in a text mode ('w',\n",
       "'r', 'wt', 'rt', etc.), it returns a TextIOWrapper. When used to open\n",
       "a file in a binary mode, the returned class varies: in read binary\n",
       "mode, it returns a BufferedReader; in write binary and append binary\n",
       "modes, it returns a BufferedWriter, and in read/write mode, it returns\n",
       "a BufferedRandom.\n",
       "\n",
       "It is also possible to use a string or bytearray as a file for both\n",
       "reading and writing. For strings StringIO can be used like a file\n",
       "opened in a text mode, and for bytes a BytesIO can be used like a file\n",
       "opened in a binary mode.\n",
       "\u001b[1;31mType:\u001b[0m      function"
      ]
     },
     "metadata": {},
     "output_type": "display_data"
    }
   ],
   "source": [
    "open??"
   ]
  },
  {
   "cell_type": "code",
   "execution_count": 145,
   "id": "fa035566-c1ab-4f63-8fdf-c4510d3b9bcd",
   "metadata": {},
   "outputs": [],
   "source": [
    "with open('first_create.txt', 'w') as f:\n",
    "    f.write('hello world!')"
   ]
  },
  {
   "cell_type": "code",
   "execution_count": 148,
   "id": "4884b20a-d253-4a3d-bffa-7d5acfc44d8c",
   "metadata": {},
   "outputs": [],
   "source": [
    "with open('first_create.txt', 'r') as f:\n",
    "    read_file = f.read()"
   ]
  },
  {
   "cell_type": "code",
   "execution_count": 149,
   "id": "d9d42304-e43a-46bf-b871-0ad18942ca70",
   "metadata": {},
   "outputs": [
    {
     "name": "stdout",
     "output_type": "stream",
     "text": [
      "hello world!\n"
     ]
    }
   ],
   "source": [
    "print(read_file)"
   ]
  },
  {
   "cell_type": "markdown",
   "id": "2c0909f2-7538-458c-a222-d139ed1a96de",
   "metadata": {},
   "source": [
    "# 12. Error Handling"
   ]
  },
  {
   "cell_type": "code",
   "execution_count": 150,
   "id": "042d3b0b-d92b-4658-a0f9-2bc60c3be180",
   "metadata": {},
   "outputs": [
    {
     "data": {
      "text/plain": [
       "{1, 2, 3, 4, 5, 6, 7}"
      ]
     },
     "execution_count": 150,
     "metadata": {},
     "output_type": "execute_result"
    }
   ],
   "source": [
    "random = {1,2,3,4,5,6,7}\n",
    "random"
   ]
  },
  {
   "cell_type": "code",
   "execution_count": 152,
   "id": "f5679e8f-7c85-4e1b-aea2-5ebfe465ca04",
   "metadata": {},
   "outputs": [
    {
     "ename": "TypeError",
     "evalue": "'set' object does not support item assignment",
     "output_type": "error",
     "traceback": [
      "\u001b[1;31m---------------------------------------------------------------------------\u001b[0m",
      "\u001b[1;31mTypeError\u001b[0m                                 Traceback (most recent call last)",
      "Cell \u001b[1;32mIn[152], line 1\u001b[0m\n\u001b[1;32m----> 1\u001b[0m random[\u001b[38;5;241m0\u001b[39m] \u001b[38;5;241m=\u001b[39m \u001b[38;5;241m0\u001b[39m\n\u001b[0;32m      2\u001b[0m random\n",
      "\u001b[1;31mTypeError\u001b[0m: 'set' object does not support item assignment"
     ]
    }
   ],
   "source": [
    "random[0] = 0\n",
    "random"
   ]
  },
  {
   "cell_type": "code",
   "execution_count": 153,
   "id": "981b1803-cf28-496c-bb18-e72783860db5",
   "metadata": {},
   "outputs": [
    {
     "name": "stdout",
     "output_type": "stream",
     "text": [
      "'set' object does not support item assignment\n"
     ]
    }
   ],
   "source": [
    "try:\n",
    "    random[0] = 0\n",
    "except Exception as e:\n",
    "    print(e)"
   ]
  },
  {
   "cell_type": "code",
   "execution_count": 154,
   "id": "6f1f9373-2529-4a7e-a72b-632be2efeac0",
   "metadata": {},
   "outputs": [
    {
     "name": "stdout",
     "output_type": "stream",
     "text": [
      "Something is error\n"
     ]
    }
   ],
   "source": [
    "try:\n",
    "    random[0] = 0\n",
    "except Exception as e:\n",
    "    print('Something is error')"
   ]
  },
  {
   "cell_type": "code",
   "execution_count": null,
   "id": "645dc2c8-b405-48bd-b399-ebb9e1f4b784",
   "metadata": {},
   "outputs": [],
   "source": []
  },
  {
   "cell_type": "code",
   "execution_count": null,
   "id": "fbb39e59-5f4e-40b4-b566-4e4e91ef4a11",
   "metadata": {},
   "outputs": [],
   "source": []
  },
  {
   "cell_type": "code",
   "execution_count": null,
   "id": "39799f60-401a-4854-935a-bbd34d6ea8ad",
   "metadata": {},
   "outputs": [],
   "source": []
  }
 ],
 "metadata": {
  "kernelspec": {
   "display_name": "Python 3 (ipykernel)",
   "language": "python",
   "name": "python3"
  },
  "language_info": {
   "codemirror_mode": {
    "name": "ipython",
    "version": 3
   },
   "file_extension": ".py",
   "mimetype": "text/x-python",
   "name": "python",
   "nbconvert_exporter": "python",
   "pygments_lexer": "ipython3",
   "version": "3.12.7"
  }
 },
 "nbformat": 4,
 "nbformat_minor": 5
}
